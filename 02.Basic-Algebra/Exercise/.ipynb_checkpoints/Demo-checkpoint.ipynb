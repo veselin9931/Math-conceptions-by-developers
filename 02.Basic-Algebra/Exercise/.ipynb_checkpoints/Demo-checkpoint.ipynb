{
 "cells": [
  {
   "cell_type": "code",
   "execution_count": 1,
   "metadata": {},
   "outputs": [],
   "source": [
    "%matplotlib inline"
   ]
  },
  {
   "cell_type": "code",
   "execution_count": 2,
   "metadata": {},
   "outputs": [],
   "source": [
    "import sympy\n",
    "import numpy.polynomial.polynomial as p\n",
    "import numpy as np\n",
    "import matplotlib.pyplot as plt"
   ]
  },
  {
   "cell_type": "markdown",
   "metadata": {},
   "source": [
    "# Basic algebra - Lection Demo"
   ]
  },
  {
   "cell_type": "markdown",
   "metadata": {},
   "source": [
    "## 01.Test addition and substriction"
   ]
  },
  {
   "cell_type": "markdown",
   "metadata": {},
   "source": [
    "Please represent this like code:"
   ]
  },
  {
   "cell_type": "markdown",
   "metadata": {},
   "source": [
    " -$$ (2x^{2} + 5x - 8) + (3x^{4} - 2) $$\n",
    " -$$ (2x^{2} + 5x - 8)(3x^{4} - 2) $$"
   ]
  },
  {
   "cell_type": "code",
   "execution_count": 3,
   "metadata": {},
   "outputs": [
    {
     "data": {
      "text/plain": [
       "array([-10.,   5.,   2.,   0.,   3.])"
      ]
     },
     "execution_count": 3,
     "metadata": {},
     "output_type": "execute_result"
    }
   ],
   "source": [
    "p.polyadd([-8,5,2], [-2,0,0,0,3])"
   ]
  },
  {
   "cell_type": "code",
   "execution_count": 4,
   "metadata": {},
   "outputs": [
    {
     "name": "stdout",
     "output_type": "stream",
     "text": [
      "3.0*x**4 - 2.0\n"
     ]
    }
   ],
   "source": [
    "from sympy.abc import x\n",
    "\n",
    "polynomial = p.Polynomial([-2,0,0,0,3])\n",
    "\n",
    "sympy.init_printing()\n",
    "\n",
    "print(sympy.Poly(reversed(polynomial.coef), x).as_expr())"
   ]
  },
  {
   "cell_type": "markdown",
   "metadata": {},
   "source": [
    "## 02.Test Sets"
   ]
  },
  {
   "cell_type": "markdown",
   "metadata": {},
   "source": [
    "### Define sets first approch:"
   ]
  },
  {
   "cell_type": "code",
   "execution_count": 5,
   "metadata": {},
   "outputs": [
    {
     "name": "stdout",
     "output_type": "stream",
     "text": [
      "<class 'set'>\n",
      "{0, 1, 2, 3, 4}\n"
     ]
    }
   ],
   "source": [
    "positive_x = {x for x in range(-5, 5) if x >= 0}\n",
    "\n",
    "print(type(positive_x))\n",
    "print(positive_x)"
   ]
  },
  {
   "cell_type": "markdown",
   "metadata": {},
   "source": [
    "### Define sets second approch:"
   ]
  },
  {
   "cell_type": "code",
   "execution_count": 6,
   "metadata": {},
   "outputs": [],
   "source": [
    "set1 = {1, 2, 3, 4}\n",
    "set2 = {3, 4, 5, 10, 3, 3}"
   ]
  },
  {
   "cell_type": "markdown",
   "metadata": {},
   "source": [
    "### Set operations"
   ]
  },
  {
   "cell_type": "code",
   "execution_count": 7,
   "metadata": {},
   "outputs": [
    {
     "name": "stdout",
     "output_type": "stream",
     "text": [
      "4\n",
      "False\n",
      "True\n",
      "True\n",
      "{1, 2, 3, 4, 5, 10}\n",
      "{1, 2}\n",
      "{10, 5}\n",
      "{1, 2, 5, 10}\n"
     ]
    }
   ],
   "source": [
    "print(len(set2))\n",
    "print(1 in set2)\n",
    "print(10 not in set1)\n",
    "print({1,2}.issubset(set1))\n",
    "print(set1.union(set2))\n",
    "print(set1.difference(set2))\n",
    "print(set2.difference(set1))\n",
    "print(set1.symmetric_difference(set2))"
   ]
  },
  {
   "cell_type": "markdown",
   "metadata": {},
   "source": [
    "## 03. Functions"
   ]
  },
  {
   "cell_type": "markdown",
   "metadata": {},
   "source": [
    "1. One input probuces exacly one output\n",
    "3. Function - math notation: $f : X  -> Y $ or $ y=f(x) $\n",
    "2. Function composition - math notation: $ f \\bullet g = f(g(x)) $"
   ]
  },
  {
   "cell_type": "markdown",
   "metadata": {},
   "source": [
    "### Function like code:"
   ]
  },
  {
   "cell_type": "code",
   "execution_count": 8,
   "metadata": {},
   "outputs": [],
   "source": [
    "def plot_functions(functions, x_min  = -10, x_max = 10, n_values = 2000):\n",
    "    x = np.linspace(x_min, x_max, n_values)\n",
    "    \n",
    "    for f in functions:\n",
    "        y = f(x)\n",
    "        plt.plot(x,y)\n",
    "    \n",
    "    plt.gca().set_aspect(\"equal\")\n",
    "    plt.show()"
   ]
  },
  {
   "cell_type": "code",
   "execution_count": 9,
   "metadata": {},
   "outputs": [],
   "source": [
    "def lin_f(x):\n",
    "        return 2 * x + 3"
   ]
  },
  {
   "cell_type": "code",
   "execution_count": 10,
   "metadata": {},
   "outputs": [
    {
     "data": {
      "image/png": "[encoded data removed]",
      "text/plain": [
       "<Figure size 432x288 with 1 Axes>"
      ]
     },
     "metadata": {
      "needs_background": "light"
     },
     "output_type": "display_data"
    }
   ],
   "source": [
    "plot_functions([lin_f,np.cos])"
   ]
  },
  {
   "cell_type": "markdown",
   "metadata": {},
   "source": [
    "### Graphing a Circle"
   ]
  },
  {
   "cell_type": "markdown",
   "metadata": {},
   "source": [
    "1. Equation: $$ x^{2} + y^{2} = 1 $$\n",
    "2. We have multiple values of y, e.g. : $$ x = 0 -> y = (-1, 1) $$"
   ]
  },
  {
   "cell_type": "code",
   "execution_count": 11,
   "metadata": {},
   "outputs": [
    {
     "data": {
      "image/png": "[encoded data removed]",
      "text/plain": [
       "<Figure size 432x288 with 1 Axes>"
      ]
     },
     "metadata": {
      "needs_background": "light"
     },
     "output_type": "display_data"
    }
   ],
   "source": [
    "circle_functions = [lambda x: np.sqrt(1 - x**2),\n",
    "                         lambda x: -np.sqrt(1 - x**2)];\n",
    "\n",
    "plot_functions(circle_functions, -1,1, 100)"
   ]
  },
  {
   "cell_type": "markdown",
   "metadata": {},
   "source": [
    "### Graphing a Circle with polar coordinates\n"
   ]
  },
  {
   "cell_type": "code",
   "execution_count": 48,
   "metadata": {},
   "outputs": [
    {
     "data": {
      "image/png": "[encoded data removed]",
      "text/plain": [
       "<Figure size 432x288 with 1 Axes>"
      ]
     },
     "metadata": {
      "needs_background": "light"
     },
     "output_type": "display_data"
    }
   ],
   "source": [
    "phi = np.linspace(-np.pi ,np.pi/1, 5000)\n",
    "r = [1] * 5000\n",
    "\n",
    "plt.polar(phi, r)\n",
    "plt.show()"
   ]
  },
  {
   "cell_type": "markdown",
   "metadata": {},
   "source": [
    "## 04. Complex numbers - not as complex as they seem\n",
    "\n",
    "$$ a + bi $$\n",
    "Real part: $ Re(a + bi) = a $ , Imaginary part: $ Im(a+ bi) = b $\n"
   ]
  },
  {
   "cell_type": "markdown",
   "metadata": {},
   "source": [
    "$ \\textbf{The complex number are build in python!} $"
   ]
  },
  {
   "cell_type": "code",
   "execution_count": 12,
   "metadata": {},
   "outputs": [],
   "source": [
    "z = 3 + 2j"
   ]
  },
  {
   "cell_type": "code",
   "execution_count": 13,
   "metadata": {},
   "outputs": [
    {
     "name": "stdout",
     "output_type": "stream",
     "text": [
      "3.0\n"
     ]
    }
   ],
   "source": [
    "print(z.real)"
   ]
  },
  {
   "cell_type": "code",
   "execution_count": 14,
   "metadata": {},
   "outputs": [
    {
     "name": "stdout",
     "output_type": "stream",
     "text": [
      "2.0\n"
     ]
    }
   ],
   "source": [
    "print(z.imag)"
   ]
  },
  {
   "cell_type": "markdown",
   "metadata": {},
   "source": [
    "### Math operations with complex number"
   ]
  },
  {
   "cell_type": "code",
   "execution_count": 15,
   "metadata": {},
   "outputs": [
    {
     "name": "stdout",
     "output_type": "stream",
     "text": [
      "(11-1j)\n"
     ]
    }
   ],
   "source": [
    "print((3 + 2j) + (8 - 3j))"
   ]
  },
  {
   "cell_type": "code",
   "execution_count": 16,
   "metadata": {},
   "outputs": [
    {
     "name": "stdout",
     "output_type": "stream",
     "text": [
      "(30+7j)\n"
     ]
    }
   ],
   "source": [
    "print((3 + 2j) * (8 - 3j))"
   ]
  }
 ],
 "metadata": {
  "kernelspec": {
   "display_name": "Python 3",
   "language": "python",
   "name": "python3"
  },
  "language_info": {
   "codemirror_mode": {
    "name": "ipython",
    "version": 3
   },
   "file_extension": ".py",
   "mimetype": "text/x-python",
   "name": "python",
   "nbconvert_exporter": "python",
   "pygments_lexer": "ipython3",
   "version": "3.7.4"
  }
 },
 "nbformat": 4,
 "nbformat_minor": 2
}
